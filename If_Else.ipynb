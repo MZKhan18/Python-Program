{
 "cells": [
  {
   "cell_type": "code",
   "execution_count": null,
   "metadata": {},
   "outputs": [],
   "source": [
    "if a>0:\n",
    "    print(str(a)+\"is positive number\")"
   ]
  },
  {
   "cell_type": "markdown",
   "metadata": {},
   "source": [
    "# The given number is odd or even. "
   ]
  },
  {
   "cell_type": "code",
   "execution_count": 1,
   "metadata": {},
   "outputs": [
    {
     "name": "stdout",
     "output_type": "stream",
     "text": [
      "Enter any number:45\n",
      "45 is odd\n"
     ]
    }
   ],
   "source": [
    "a = int(input(\"Enter any number:\"))\n",
    "if a%2==0:\n",
    "    print(str(a)+\" is even\")\n",
    "else:\n",
    "    print(str(a)+\" is odd\")"
   ]
  },
  {
   "cell_type": "markdown",
   "metadata": {},
   "source": [
    "# The given number is of one digited or two digited or three digited or more than three digited. "
   ]
  },
  {
   "cell_type": "code",
   "execution_count": null,
   "metadata": {},
   "outputs": [],
   "source": [
    "a = int(input(\"Enter any number:\"))\n",
    "if a/10<1:\n",
    "    print(str(a)+\" is one digit number\")\n",
    "elif a/10>0 and a/10<10:\n",
    "    print(str(a)+\" is two digit number\")\n",
    "elif a/10>9 and a/10<100:\n",
    "    print(str(a)+\" is three digit number\")\n",
    "else:\n",
    "    print(str(a)+\" is more digited number\")"
   ]
  },
  {
   "cell_type": "markdown",
   "metadata": {},
   "source": [
    "# Find maximum number out of given three numbers. "
   ]
  },
  {
   "cell_type": "code",
   "execution_count": null,
   "metadata": {},
   "outputs": [],
   "source": [
    "a= int(input(\"Enter first number\"))\n",
    "b= int(input(\"Enter second number\"))\n",
    "c= int(input(\"Enter third number\"))\n",
    "if a>b:\n",
    "    if a>c:\n",
    "        print(str(a)+\" is maximum\")\n",
    "    else:\n",
    "        print(str(c)+\" is maximum\")\n",
    "else:\n",
    "    if b>c:\n",
    "        print(str(b)+\" is maximum\")\n",
    "    else:\n",
    "        print(str(c)+\" is maximum\")"
   ]
  },
  {
   "cell_type": "markdown",
   "metadata": {},
   "source": [
    "# Write a program that reads three positive numbers a, b, c and determines whether they can form the three sides of a triangle.\n"
   ]
  },
  {
   "cell_type": "code",
   "execution_count": null,
   "metadata": {},
   "outputs": [],
   "source": [
    "a= int(input(\"Enter first side \"))\n",
    "b= int(input(\"Enter second side \"))\n",
    "c= int(input(\"Enter third side \"))\n",
    "if a+b>c and b+c>a and a+c>b:\n",
    "    print(\"These sides can form a triangle\")\n",
    "else:\n",
    "    print(\"These side can not form a triangle\")"
   ]
  },
  {
   "cell_type": "markdown",
   "metadata": {},
   "source": [
    "# The given character is an uppercase letter or lowercase letter or a digit or a special character. "
   ]
  },
  {
   "cell_type": "code",
   "execution_count": 16,
   "metadata": {},
   "outputs": [
    {
     "name": "stdout",
     "output_type": "stream",
     "text": [
      "Enter any character : /\n",
      "It is a special character\n"
     ]
    }
   ],
   "source": [
    "char= ord(input(\"Enter any character : \"))\n",
    "if 65<=char<=90:\n",
    "    print(\"It is a uppercase letter\")\n",
    "elif 97<=char<=122:\n",
    "    print(\"It is a lowercase letter\")\n",
    "elif 48<=char<=57:\n",
    "    print(\"It is a digit\")\n",
    "elif 33<=char<=47:\n",
    "    print(\"It is a special character\")\n",
    "else:\n",
    "    print(\"Any other character\")\n",
    "    \n",
    "    "
   ]
  },
  {
   "cell_type": "markdown",
   "metadata": {},
   "source": [
    "# Whether the triangle will be an obtuse-angle, or a right-angle or an acute-angle triangle. "
   ]
  },
  {
   "cell_type": "code",
   "execution_count": 22,
   "metadata": {},
   "outputs": [
    {
     "name": "stdout",
     "output_type": "stream",
     "text": [
      "Enter first angle of triangle : 45\n",
      "Enter second angle of triangle : 55\n",
      "Enter third angle of triangle : 80\n",
      "Acute-Angled Triangle\n"
     ]
    }
   ],
   "source": [
    "a= int(input(\"Enter first angle of triangle : \"))\n",
    "b= int(input(\"Enter second angle of triangle : \"))\n",
    "c= int(input(\"Enter third angle of triangle : \"))\n",
    "if a+b+c!=180 or a==0 or b==0 or c==0:\n",
    "    print(\"Invalid Triangle\")\n",
    "elif a<90 and b<90 and c<90:\n",
    "    print(\"Acute-Angled Triangle\")\n",
    "elif a>90 or b>90 or c>90:\n",
    "    print(\"Obtuse-Angled Triangle\")\n",
    "elif (a==90 and b<90 and c<90) or (a<90 and b==90 and c<90) or (a<90 and b<90 and c==90):\n",
    "    print(\"Right-Angled Triangle\")"
   ]
  },
  {
   "cell_type": "markdown",
   "metadata": {},
   "source": [
    "# If the triangle is an acute angle triangle, determine further whether the triangle is equilateral, isosceles, or scalene."
   ]
  },
  {
   "cell_type": "code",
   "execution_count": 26,
   "metadata": {},
   "outputs": [
    {
     "name": "stdout",
     "output_type": "stream",
     "text": [
      "Enter sides of triangle\n",
      "Enter first side 789\n",
      "Enter second side 45\n",
      "Enter third side 15\n",
      "Triangle Not Valid\n"
     ]
    }
   ],
   "source": [
    "print(\"Enter sides of triangle\")\n",
    "a= int(input(\"Enter first side \"))\n",
    "b= int(input(\"Enter second side \"))\n",
    "c= int(input(\"Enter third side \"))\n",
    "if a+b>c and b+c>a and a+c>b:\n",
    "    if a==b==c:\n",
    "        print(\"Equilateral Triangle\")\n",
    "    elif a==b or b==c or c==a:\n",
    "        print(\"Isosceles Triangle\")\n",
    "    elif a!=b!=c:\n",
    "        print(\"Scalene Triangle\")\n",
    "else:\n",
    "    print(\"Triangle Not Valid\")"
   ]
  },
  {
   "cell_type": "markdown",
   "metadata": {},
   "source": [
    "# A function f is defined as follows : \n",
    " #f(x) = ax^3 – bx^2 + cx –d, if x > k \n",
    " #= 0, if x = k \n",
    " #= -ax^3 + bx^2 – cx +d, if x < k \n",
    " #Write a program that reads a, b, c, d, k and x and prints the value of f(x). \n"
   ]
  },
  {
   "cell_type": "code",
   "execution_count": null,
   "metadata": {},
   "outputs": [],
   "source": [
    "a = int(input(\"Enter the value of 'a'\"))\n",
    "b = int(input(\"Enter the value of 'b'\"))\n",
    "c = int(input(\"Enter the value of 'c'\"))\n",
    "d = int(input(\"Enter the value of 'd'\"))\n",
    "k = int(input(\"Enter the value of 'k'\"))\n",
    "x = int(input(\"Enter the value of 'x'\"))\n",
    "\n",
    "if x>k:\n",
    "    fx = a*x**3 -b*x**2 + c*x -d\n",
    "    print(\"F(x) = \"+str(fx))\n",
    "elif x==k:\n",
    "    fx = 0\n",
    "    print(\"F(x) = \"+str(fx))\n",
    "elif x<k:\n",
    "   fx =  -a*x**3 +b*x**2 - c*x +d\n",
    "   print(\"F(x) = \"+str(fx))\n",
    "\n"
   ]
  },
  {
   "cell_type": "markdown",
   "metadata": {},
   "source": [
    "# Write a program to do the following operations : Read any two positive integer numbers (say n1 & n2) and one character type operator (say opr). Note that opr is any mathematical operator. Depending upon the operator, do the appropriate operation. e. g. if opr is ‘+’ then the display the value obtained by evaluating the expression (n1 + n2). \n"
   ]
  },
  {
   "cell_type": "code",
   "execution_count": null,
   "metadata": {},
   "outputs": [],
   "source": [
    "n1 = int(input(\"Enter first numbeer : \"))\n",
    "n2 = int(input(\"Enter second numbeer : \"))\n",
    "print(\"Choose any one of the operator: '+', '-', '*', '/', '**'\")\n",
    "opr = input(\"Choosed operator is : \")\n",
    "\n",
    "if opr=='+':\n",
    "    print(\"Answer = \"+str(n1+n2))\n",
    "elif opr=='-':\n",
    "    print(\"Answer = \"+str(n1-n2))\n",
    "elif opr=='*':\n",
    "    print(\"Answer = \"+str(n1*n2))\n",
    "elif opr=='/':\n",
    "    print(\"Answer = \"+str(n1/n2))\n",
    "elif opr=='**':\n",
    "    print(\"Answer = \"+str(n1**n2))\n",
    "else:\n",
    "    print(\"ERROR\")"
   ]
  },
  {
   "cell_type": "markdown",
   "metadata": {},
   "source": [
    "# The Paschim Gujarat Vij Company Ltd. computes the electricity bill based on the following matrix:\n",
    "\n",
    "# Units              -                Consumed Charges \n",
    "# 0-100              -                0.50 per unit \n",
    "# 101-200          -                Rs. 50 plus Rs. 1 per unit over 100 units \n",
    "# 201-300          -                Rs. 150 plus 1.50 per unit over 200 units \n",
    "# > 300              -                Rs. 300 plus Rs.2 per unit over 300 units \n",
    "\n",
    "# Ask user to enter the Past meter reading and current meter reading. \n",
    "# Find the units consumed. Compute the bill according to given matrix. \n"
   ]
  },
  {
   "cell_type": "code",
   "execution_count": null,
   "metadata": {},
   "outputs": [],
   "source": [
    "pmr=int(input(\"Enter past meter reading : \"))\n",
    "cmr = int(input(\"Enter current meter reading : \"))\n",
    "units = cmr - pmr\n",
    "\n",
    "if 0<units<100:\n",
    "    print(\"Bill = Rs. \"+str(0.5*units))\n",
    "    print(\"Units = \" + str(units))\n",
    "elif 101<units<200:\n",
    "    print(\"Bill = Rs. \"+str(50 + (units-100)*1))\n",
    "    print(\"Units = \" + str(units))\n",
    "elif 201<units<300:\n",
    "    print(\"Bill = Rs. \"+str(150 + (units-200)*1.5))\n",
    "    print(\"Units = \" + str(units))\n",
    "elif units>300:\n",
    "    print(\"Bill = Rs. \"+str(300 + (units-300)*2))\n",
    "    print(\"Units = \" + str(units))\n",
    "elif units<0:\n",
    "    print(\"Wrong Reading\")"
   ]
  },
  {
   "cell_type": "markdown",
   "metadata": {},
   "source": [
    "# The Sardar Patel Cricket Stadium, Motera has the following rates for different types of seats: \n",
    "# Ordinary – 2500 \n",
    "# Pavillion – 3500 \n",
    "# Upper Pavillion – 4500 \n",
    "# Commentary Box – 6000 \n",
    "# VIP – 8000 \n",
    "# They are giving 10% discount for online booking and 8% discount for advance booking and no discount is given for booking on match day from ticket window. \n",
    "# Ask user to enter the booking type like online, advance or window booking. \n",
    "# Ask user to select the types of seats. \n",
    "# Compute the amount and print the ticket with proper format."
   ]
  },
  {
   "cell_type": "code",
   "execution_count": null,
   "metadata": {},
   "outputs": [],
   "source": [
    "print(\"Booking Types : Online Booking|Advance Booking|Window Booking\")\n",
    "booking=input(\"Enter Booking type : \")\n",
    "print(\"Seat Types : Ordinary|Pavillion|Upper Pavillion|Commentary Box|VIP\")\n",
    "seat=input(\"Enter seat type : \")\n",
    "if booking=='ONLINE'  or booking=='ONLINE BOOKING' or booking=='online' or booking=='online booking':\n",
    "    disc=10\n",
    "    if seat=='ORDINARY' or seat=='ordinary':\n",
    "        amt = 2500 - 2500*0.1\n",
    "        print(\"TICKET DETAILS\")\n",
    "        print(\"Seat Type : \"+seat)\n",
    "        print(\"Booking Type : \"+booking)\n",
    "        print(\"Ticket Amount : Rs.\"+str(amt))\n",
    "        print(\"Discount Given : \"+str(disc)+\"%\")\n",
    "    elif seat=='PAVILLION' or seat=='pavillion':\n",
    "        amt = 3500 - 3500*0.1\n",
    "        print(\"TICKET DETAILS\")\n",
    "        print(\"Seat Type : \"+seat)\n",
    "        print(\"Booking Type : \"+booking)\n",
    "        print(\"Ticket Amount : Rs.\"+str(amt))\n",
    "        print(\"Discount Given : \"+str(disc)+\"%\")\n",
    "    elif seat=='UPPER PAVILLION' or seat=='upper pavillion':\n",
    "        amt = 4500 - 4500*0.1\n",
    "        print(\"TICKET DETAILS\")\n",
    "        print(\"Seat Type : \"+seat)\n",
    "        print(\"Booking Type : \"+booking)\n",
    "        print(\"Ticket Amount : Rs.\"+str(amt))\n",
    "        print(\"Discount Given : \"+str(disc)+\"%\")\n",
    "    elif seat=='COMMENTARY BOX' or seat=='commentary box':\n",
    "        amt = 6000 - 6000*0.1\n",
    "        print(\"TICKET DETAILS\")\n",
    "        print(\"Seat Type : \"+seat)\n",
    "        print(\"Booking Type : \"+booking)\n",
    "        print(\"Ticket Amount : Rs.\"+str(amt))\n",
    "        print(\"Discount Given : \"+str(disc)+\"%\")\n",
    "    elif seat=='VIP'or seat == 'vip':\n",
    "        amt = 8000 - 8000*0.1\n",
    "        print(\"TICKET DETAILS\")\n",
    "        print(\"Seat Type : \"+seat)\n",
    "        print(\"Booking Type : \"+booking)\n",
    "        print(\"Ticket Amount : Rs.\"+str(amt))\n",
    "        print(\"Discount Given : \"+str(disc)+\"%\")\n",
    "    else:\n",
    "        print(\"Wrong Seat Details \")\n",
    "    \n",
    "elif booking=='ADVANCE'or booking =='ADVANCE BOOKING' or booking=='advance'or booking =='advance booking':\n",
    "    disc = 8\n",
    "    if seat=='ORDINARY' or seat=='ordinary':\n",
    "        amt = 2500 - 2500*0.08\n",
    "        print(\"TICKET DETAILS\")\n",
    "        print(\"Seat Type : \"+seat)\n",
    "        print(\"Booking Type : \"+booking)\n",
    "        print(\"Ticket Amount : Rs.\"+str(amt))\n",
    "        print(\"Discount Given : \"+str(disc)+\"%\")\n",
    "    elif seat=='PAVILLION' or  seat=='pavillion':\n",
    "        amt = 3500 - 3500*0.08\n",
    "        print(\"TICKET DETAILS\")\n",
    "        print(\"Seat Type : \"+seat)\n",
    "        print(\"Booking Type : \"+booking)\n",
    "        print(\"Ticket Amount : Rs.\"+str(amt))\n",
    "        print(\"Discount Given : \"+str(disc)+\"%\")\n",
    "    elif seat=='UPPER PAVILLION' or seat=='upper pavillion':\n",
    "        amt = 4500 - 4500*0.08\n",
    "        print(\"TICKET DETAILS\")\n",
    "        print(\"Seat Type : \"+seat)\n",
    "        print(\"Booking Type : \"+booking)\n",
    "        print(\"Ticket Amount : Rs.\"+str(amt))\n",
    "        print(\"Discount Given : \"+str(disc)+\"%\")\n",
    "    elif seat=='COMMENTARY BOX' or seat=='commentary box':\n",
    "        amt = 6000 - 6000*0.08\n",
    "        print(\"TICKET DETAILS\")\n",
    "        print(\"Seat Type : \"+seat)\n",
    "        print(\"Booking Type : \"+booking)\n",
    "        print(\"Ticket Amount : Rs.\"+str(amt))\n",
    "        print(\"Discount Given : \"+str(disc)+\"%\")\n",
    "    elif seat=='VIP' or seat == 'vip':\n",
    "        amt = 8000 - 8000*0.08\n",
    "        print(\"TICKET DETAILS\")\n",
    "        print(\"Seat Type : \"+seat)\n",
    "        print(\"Booking Type : \"+booking)\n",
    "        print(\"Ticket Amount : Rs.\"+str(amt))\n",
    "        print(\"Discount Given : \"+str(disc)+\"%\")\n",
    "    else:\n",
    "        print(\"Wrong Seat Details \")\n",
    "    \n",
    "elif booking=='WINDOW'or booking =='WINDOW BOOKING' or booking=='window'or booking =='window booking':\n",
    "    disc = 'No Discount'\n",
    "    if seat=='ORDINARY'  or seat=='ordinary':\n",
    "        amt = 2500\n",
    "        print(\"TICKET DETAILS\")\n",
    "        print(\"Seat Type : \"+seat)\n",
    "        print(\"Booking Type : \"+booking)\n",
    "        print(\"Ticket Amount : Rs.\"+str(amt))\n",
    "        print(\"Discount Given : \"+str(disc)+\"%\")\n",
    "    elif seat=='PAVILLION' or seat=='pavillion':\n",
    "        amt = 3500\n",
    "        print(\"TICKET DETAILS\")\n",
    "        print(\"Seat Type : \"+seat)\n",
    "        print(\"Booking Type : \"+booking)\n",
    "        print(\"Ticket Amount : Rs.\"+str(amt))\n",
    "        print(\"Discount Given : \"+str(disc)+\"%\")\n",
    "    elif seat=='UPPER PAVILLION' or seat=='upper pavillion':\n",
    "        amt = 4500\n",
    "        print(\"TICKET DETAILS\")\n",
    "        print(\"Seat Type : \"+seat)\n",
    "        print(\"Booking Type : \"+booking)\n",
    "        print(\"Ticket Amount : Rs.\"+str(amt))\n",
    "        print(\"Discount Given : \"+str(disc)+\"%\")\n",
    "    elif seat=='COMMENTARY BOX' or seat=='commentary box':\n",
    "        amt = 6000\n",
    "        print(\"TICKET DETAILS\")\n",
    "        print(\"Seat Type : \"+seat)\n",
    "        print(\"Booking Type : \"+booking)\n",
    "        print(\"Ticket Amount : Rs.\"+str(amt))\n",
    "        print(\"Discount Given : \"+str(disc)+\"%\")\n",
    "    elif seat=='VIP'  or seat == 'vip':\n",
    "        amt = 8000\n",
    "        print(\"TICKET DETAILS\")\n",
    "        print(\"Seat Type : \"+seat)\n",
    "        print(\"Booking Type : \"+booking)\n",
    "        print(\"Ticket Amount : Rs.\"+str(amt))\n",
    "        print(\"Discount Given : \"+str(disc)+\"%\")\n",
    "    else:\n",
    "        print(\"Wrong Seat Details \")\n",
    "else:\n",
    "        print(\"Wrong Booking Details \")\n",
    "\n",
    "    "
   ]
  },
  {
   "cell_type": "markdown",
   "metadata": {},
   "source": [
    "# short hand"
   ]
  },
  {
   "cell_type": "code",
   "execution_count": null,
   "metadata": {},
   "outputs": [],
   "source": [
    "a=1\n",
    "print(\"Hello\") if a>10 else print(\"hi\")"
   ]
  },
  {
   "cell_type": "markdown",
   "metadata": {},
   "source": [
    "# largest between three numbers using short hand"
   ]
  },
  {
   "cell_type": "code",
   "execution_count": null,
   "metadata": {},
   "outputs": [],
   "source": [
    "a= int(input(\"Enter First Number\"))\n",
    "b= int(input(\"Enter Second Number\"))\n",
    "c= int(input(\"Enter Third Number\"))\n",
    "(print(str(a)+\" is largest\") if a>c else print(str(c)+\" is largest\")) if a>b else print(str(b)+\" is largest\") if b>c else print(str(c)+\" is largest\") "
   ]
  }
 ],
 "metadata": {
  "kernelspec": {
   "display_name": "Python 3",
   "language": "python",
   "name": "python3"
  },
  "language_info": {
   "codemirror_mode": {
    "name": "ipython",
    "version": 3
   },
   "file_extension": ".py",
   "mimetype": "text/x-python",
   "name": "python",
   "nbconvert_exporter": "python",
   "pygments_lexer": "ipython3",
   "version": "3.8.5"
  }
 },
 "nbformat": 4,
 "nbformat_minor": 4
}
