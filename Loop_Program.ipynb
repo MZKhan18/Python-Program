{
 "cells": [
  {
   "cell_type": "markdown",
   "metadata": {},
   "source": [
    "# LOOP"
   ]
  },
  {
   "cell_type": "code",
   "execution_count": null,
   "metadata": {},
   "outputs": [],
   "source": [
    "print(range(10))"
   ]
  },
  {
   "cell_type": "code",
   "execution_count": null,
   "metadata": {},
   "outputs": [],
   "source": [
    "print(range(2,10))"
   ]
  },
  {
   "cell_type": "code",
   "execution_count": null,
   "metadata": {},
   "outputs": [],
   "source": [
    "print(\"FACTORAIL OF ANY NUMBER\")\n",
    "n=int(input(\"Enter any number\"))\n",
    "i=1\n",
    "fact=1\n",
    "while i<=n:\n",
    "    fact=fact*i\n",
    "    i=i+1\n",
    "print(fact)"
   ]
  },
  {
   "cell_type": "code",
   "execution_count": null,
   "metadata": {},
   "outputs": [],
   "source": [
    "sum =[1,2,3,4,5,6]\n",
    "for i in sum:\n",
    "    print(i)"
   ]
  },
  {
   "cell_type": "code",
   "execution_count": null,
   "metadata": {},
   "outputs": [],
   "source": [
    "for i in (\"Zama\"):\n",
    "    print(i)"
   ]
  },
  {
   "cell_type": "code",
   "execution_count": null,
   "metadata": {},
   "outputs": [],
   "source": [
    "for i in range(2,10,2):\n",
    "    print(i)"
   ]
  },
  {
   "cell_type": "code",
   "execution_count": null,
   "metadata": {},
   "outputs": [],
   "source": [
    "row = int(input(\"Enter rows\"))\n",
    "for i in range (row+1):\n",
    "    for j in range(i):\n",
    "        print(\"*\",sep='',end='')\n",
    "    print(\"\")"
   ]
  },
  {
   "cell_type": "markdown",
   "metadata": {},
   "source": [
    "# Write a program to print first 10 even numbers and first 10 odd numbers. "
   ]
  },
  {
   "cell_type": "code",
   "execution_count": null,
   "metadata": {},
   "outputs": [],
   "source": [
    "for i in range(21):\n",
    "    if i%2==0:\n",
    "        print(\"Even Number: \"+str(i))\n",
    "    else:\n",
    "        print(\"Odd Number: \"+str(i))"
   ]
  },
  {
   "cell_type": "code",
   "execution_count": null,
   "metadata": {},
   "outputs": [],
   "source": [
    "print(\"EVEN NUMBERS\")\n",
    "for i in range(0,11,2):\n",
    "    print(i)\n",
    "print(\"ODD NUMBERS\")\n",
    "for i in range(1,11,2):\n",
    "    print(i)"
   ]
  },
  {
   "cell_type": "markdown",
   "metadata": {},
   "source": [
    "# Write a program to print table of a number accepted from user."
   ]
  },
  {
   "cell_type": "code",
   "execution_count": null,
   "metadata": {},
   "outputs": [],
   "source": [
    "print(\"TABLE OF ANY NUMBER\")\n",
    "n= int(input(\"Enter any number: \"))\n",
    "for i in range(1,11):\n",
    "    print(str(n)+ \" x \"+str(i)+ \" = \" +str(i*n))"
   ]
  },
  {
   "cell_type": "markdown",
   "metadata": {},
   "source": [
    "# Write a program to print first 10 even numbers in reverse order."
   ]
  },
  {
   "cell_type": "code",
   "execution_count": null,
   "metadata": {},
   "outputs": [],
   "source": [
    "i=20\n",
    "while i>0:\n",
    "    print(i)\n",
    "    i-=2"
   ]
  },
  {
   "cell_type": "markdown",
   "metadata": {},
   "source": [
    "# Write a program to display product of the digits of a number accepted from the user."
   ]
  },
  {
   "cell_type": "code",
   "execution_count": null,
   "metadata": {},
   "outputs": [],
   "source": [
    "n= int(input(\"Enter Any Number : \"))\n",
    "product =1\n",
    "while n>0:\n",
    "    lastd = n%10\n",
    "    product = product*lastd\n",
    "    n=n//10\n",
    "print(\"Product = \"+str(product))\n"
   ]
  },
  {
   "cell_type": "markdown",
   "metadata": {},
   "source": [
    "# Write a program to find the sum of the digits of a number accepted from user"
   ]
  },
  {
   "cell_type": "code",
   "execution_count": null,
   "metadata": {},
   "outputs": [],
   "source": [
    "n= int(input(\"Enter Any Number : \"))\n",
    "sum1 =0\n",
    "while n>0:\n",
    "    lastd = n%10\n",
    "    sum1 = sum1 + lastd\n",
    "    n=n//10\n",
    "print(\"Sum = \"+str(sum1))"
   ]
  },
  {
   "cell_type": "markdown",
   "metadata": {},
   "source": [
    "# Write a program to check whether a number is prime or not."
   ]
  },
  {
   "cell_type": "code",
   "execution_count": null,
   "metadata": {},
   "outputs": [],
   "source": [
    "n=int(input(\"Enter any number : \"))\n",
    "count=0\n",
    "for i in range (1,n+1):\n",
    "    if n%i==0:\n",
    "        count= count +1\n",
    "    else:\n",
    "        pass\n",
    "if count>2:\n",
    "    print(str(n)+\" is not prime number\")\n",
    "else:\n",
    "    print(str(n)+\" is prime number\")"
   ]
  },
  {
   "cell_type": "markdown",
   "metadata": {},
   "source": [
    "# Write program to print the following pattern.\n",
    "\n",
    "# 1\n",
    "# 1 2\n",
    "# 1 2 3\n",
    "# 1 2 3 4"
   ]
  },
  {
   "cell_type": "code",
   "execution_count": null,
   "metadata": {},
   "outputs": [],
   "source": [
    "for i in range(1,6):\n",
    "    for j in range(1,i):\n",
    "        print(j, sep='',end=' ')\n",
    "    print('')"
   ]
  },
  {
   "cell_type": "markdown",
   "metadata": {},
   "source": [
    "# * * * *\n",
    "# * * *\n",
    "# * *\n",
    "# *"
   ]
  },
  {
   "cell_type": "code",
   "execution_count": null,
   "metadata": {},
   "outputs": [],
   "source": [
    "for i in range (4,0,-1):\n",
    "    for j in range(i,0,-1):\n",
    "        print(\"*\",sep='',end=' ')\n",
    "    print(\"\")"
   ]
  },
  {
   "cell_type": "code",
   "execution_count": null,
   "metadata": {},
   "outputs": [],
   "source": [
    "sum1 = 0\n",
    "for i in range(10):\n",
    "    a=int(input(\"Enter numbers : \"))\n",
    "    sum1=sum1+a\n",
    "print(\"Average\"+str(sum1/10))"
   ]
  },
  {
   "cell_type": "markdown",
   "metadata": {},
   "source": [
    "# . Write a program to print all prime numbers that fall between two numbers including both(accept two numbers from the user)\n"
   ]
  },
  {
   "cell_type": "code",
   "execution_count": null,
   "metadata": {},
   "outputs": [],
   "source": [
    "a=int(input(\"Enter Starting Limit : \"))\n",
    "b=int(input(\"Enter Ending Limit : \"))\n",
    "count =0\n",
    "print(\"List of prime numbers is:\")\n",
    "for i in range(a,b+1):\n",
    "      # j is to divide i with other numbers to check if it is prime\n",
    "    for j in range(2,i):  # j starts from 2 to one less than i bcoz a prime number is divisible by 1 and itself       \n",
    "        if i%j==0:   # if i is divisible by any number less than it (except 1), then it is not prime \n",
    "            break  # i is not prime=>break the loop=>check for next number(i+1)\n",
    "        else: # if i is not divisible by j then increament the count by 1\n",
    "            count+=1\n",
    "    #now if i is not divisible by any value of j in range(2,i), then print i\n",
    "    if i==count+2:   # when j failed to divide i, count increamented,but count starts from 2=>it is 2 less than i=>count+2\n",
    "        print(i)\n",
    "    else:\n",
    "        pass\n",
    "    count=0"
   ]
  },
  {
   "cell_type": "markdown",
   "metadata": {},
   "source": [
    "# Write a program to display sum of odd numbers and even numbers that fall between 12 and 37(including both numbers)"
   ]
  },
  {
   "cell_type": "code",
   "execution_count": null,
   "metadata": {},
   "outputs": [],
   "source": [
    "sum_even=0\n",
    "sum_odd=0\n",
    "for i in range(12,38):\n",
    "    if i%2==0:\n",
    "        sum_even +=i\n",
    "    else:\n",
    "        sum_odd +=i\n",
    "print(\"Sum odd numbers : \"+str(sum_odd))\n",
    "print(\"Sum even numbers : \"+str(sum_even))"
   ]
  },
  {
   "cell_type": "markdown",
   "metadata": {},
   "source": [
    "# Write a program to display all the numbers which are divisible by 11 but not by 2 between 100 and 500."
   ]
  },
  {
   "cell_type": "code",
   "execution_count": null,
   "metadata": {},
   "outputs": [],
   "source": [
    "for i in range(100,500):\n",
    "    if i%11==0 and i%2!=0:\n",
    "        print(i)"
   ]
  },
  {
   "cell_type": "markdown",
   "metadata": {},
   "source": [
    "# . Write a program to print numbers from 1 to 20 except multiple of 2 & 3."
   ]
  },
  {
   "cell_type": "code",
   "execution_count": null,
   "metadata": {},
   "outputs": [],
   "source": [
    "for i in range(1,20):\n",
    "    if i%2!=0 and i%3!=0:\n",
    "        print(i)"
   ]
  },
  {
   "cell_type": "markdown",
   "metadata": {},
   "source": [
    "# Write a program that keep on accepting number from the user until user enters Zero. Display the sum and average of all the numbers."
   ]
  },
  {
   "cell_type": "code",
   "execution_count": null,
   "metadata": {},
   "outputs": [],
   "source": [
    "sum1,avg,count=0,0,0\n",
    "a=int(input(\"Enter Numbers\"))\n",
    "while a!=0:\n",
    "    sum1+=a\n",
    "    a=int(input(\"Enter Numbers\"))\n",
    "    count+=1\n",
    "print(\"Sum = \"+str(sum1))\n",
    "print(\"Average = \"+str(sum1/count))"
   ]
  },
  {
   "cell_type": "markdown",
   "metadata": {},
   "source": [
    "# Write a program to print the following pattern\n",
    "# 5 5 5 5 5\n",
    "# 4 4 4 4\n",
    "# 3 3 3\n",
    "# 2 2\n",
    "# 1"
   ]
  },
  {
   "cell_type": "code",
   "execution_count": null,
   "metadata": {},
   "outputs": [],
   "source": [
    "for i in range(5,0,-1):\n",
    "    for j in range(0,i):\n",
    "        print(i,sep='',end='')\n",
    "    print('')"
   ]
  },
  {
   "cell_type": "code",
   "execution_count": null,
   "metadata": {},
   "outputs": [],
   "source": [
    "n = int(input())\n",
    "tmp = \"\"\n",
    "#divide n repeatedly by 2 till you get 1 as qoutient then take all the remainder in last to first order.\n",
    "rem=n%2\n",
    "quotient = n//2\n",
    "n = n//2\n",
    "count = 1\n",
    "while True:\n",
    "    tmp = tmp + str(rem)\n",
    "    if quotient == 1:\n",
    "        break\n",
    "    rem = n%2\n",
    "    quotient = n//2\n",
    "    count +=1\n",
    "    n = n//2\n",
    "tmp = tmp + str(quotient)\n",
    "\n",
    "# ans : Reverse(tmp)  : s[i] give i-th char of string s\n",
    "print(\"Answer is : \")\n",
    "for i in range(count, -1, -1):\n",
    "    print(tmp[i], end=\"\")\n",
    "print()\n",
    "\n",
    "# Another way to reverse tmp\n",
    "num = int(tmp)\n",
    "rev = \"\"\n",
    "for i in range(count+1):\n",
    "    last = num %10\n",
    "    rev = rev + str(last)\n",
    "    num = num//10\n",
    "print(\"Answer is: \" ,rev)"
   ]
  },
  {
   "cell_type": "markdown",
   "metadata": {},
   "source": [
    "# Write a program to accept decimal number and display its binary number."
   ]
  },
  {
   "cell_type": "code",
   "execution_count": null,
   "metadata": {},
   "outputs": [],
   "source": []
  },
  {
   "cell_type": "markdown",
   "metadata": {},
   "source": [
    "# Accept a number and check whether it is palindrome or not"
   ]
  },
  {
   "cell_type": "code",
   "execution_count": null,
   "metadata": {},
   "outputs": [],
   "source": [
    "a=int(input(\"Enter any number: \"))\n",
    "a1=a2=a\n",
    "count=digit=0\n",
    "\n",
    "while(a!=0): #this loop is to find how many digits in number\n",
    "    count=count + 1\n",
    "    a=a//10\n",
    "    \n",
    "for i in range(count,0,-1): # this loop to reverse the number\n",
    "    n=a1%10\n",
    "    digit= digit + n*10**(i-1)\n",
    "    a1=a1//10\n",
    "\n",
    "if digit==a2: #checking the reversed and oringnal number for palindrome to be\n",
    "    print(str(a2)+\" is a palindrome\")\n",
    "else:\n",
    "    print(str(a2)+\" is not a palindrome\")"
   ]
  },
  {
   "cell_type": "markdown",
   "metadata": {},
   "source": [
    "# Write a program to accept a number and check whether it is a perfect number or not.\n",
    "## (Perfect number is a positive integer which is equal to the sum of its divisors like divisors of 6 are 1,2,3, and sum of divisors is also 6, so 6 is the perfect number) "
   ]
  },
  {
   "cell_type": "code",
   "execution_count": null,
   "metadata": {},
   "outputs": [],
   "source": [
    "a=int(input(\"Enter any number: \"))\n",
    "sum1=0\n",
    "for i in range(1,a):\n",
    "    if a%i==0:\n",
    "        sum1+=i\n",
    "    else:\n",
    "        pass\n",
    "if sum1==a:\n",
    "    print(str(a)+\" is a perfect number\")\n",
    "else:\n",
    "    print(str(a)+\" is not a perfect number\")"
   ]
  },
  {
   "cell_type": "markdown",
   "metadata": {},
   "source": [
    "# List all the perfect numbers upto a given number, take the end limit from user"
   ]
  },
  {
   "cell_type": "code",
   "execution_count": null,
   "metadata": {
    "scrolled": true
   },
   "outputs": [],
   "source": [
    "a=int(input(\"Enter any number: \"))\n",
    "sum1=0\n",
    "for i in range(1,a):\n",
    "    for j in range(1,i):\n",
    "        if i%j==0:\n",
    "            sum1+=j\n",
    "        else:\n",
    "            pass\n",
    "    if sum1==i:\n",
    "        print(i)\n",
    "    sum1=0\n",
    "    "
   ]
  },
  {
   "cell_type": "markdown",
   "metadata": {},
   "source": [
    "# Write a program to find the sum of the following series(accept values of x and n from user)\n",
    "# 1 + x^1/1! + x^2/2! + ……….x^n/n!"
   ]
  },
  {
   "cell_type": "code",
   "execution_count": null,
   "metadata": {},
   "outputs": [],
   "source": [
    "x=int(input(\"Enter value of x : \"))\n",
    "n=int(input(\"Enter value of n : \"))\n",
    "sum1,fact=1,1\n",
    "for i in range(1,n+1): #this loop finds sum\n",
    "    for j in range(1,i+1): # this loop finds factorial\n",
    "        fact=fact*j\n",
    "    sum1= sum1 + x**(i)/fact    \n",
    "    fact=1\n",
    "print(\"Sum of series =\"+str(sum1))   "
   ]
  },
  {
   "cell_type": "markdown",
   "metadata": {},
   "source": [
    "# . Write a program to find the sum of following (Accept values of a, r, n from user)\n",
    "# a + ar + ar^2 + ar^3 + ………..ar^n"
   ]
  },
  {
   "cell_type": "code",
   "execution_count": null,
   "metadata": {},
   "outputs": [],
   "source": [
    "a=int(input(\"Enter value of a : \"))\n",
    "r=int(input(\"Enter value of r : \"))\n",
    "n=int(input(\"Enter value of n : \"))\n",
    "sum1=a\n",
    "for i in range(1,n+1):\n",
    "    sum1+=a*r**i\n",
    "print(\"Sum of series is : \"+str(sum1))"
   ]
  },
  {
   "cell_type": "markdown",
   "metadata": {},
   "source": [
    "#  Write a function to display prime numbers below any number accepted from the user."
   ]
  },
  {
   "cell_type": "code",
   "execution_count": null,
   "metadata": {},
   "outputs": [],
   "source": [
    "a=int(input(\"Enter any number : \"))\n",
    "count =0\n",
    "print(\"List of prime numbers is:\")\n",
    "for i in range(a,0,-1):\n",
    "      \n",
    "    for j in range(i-1,1,-1):         \n",
    "        if i%j==0:    \n",
    "            break  \n",
    "        else: \n",
    "            count+=1\n",
    "    \n",
    "    if i==count+2:   \n",
    "        print(i)\n",
    "    else:\n",
    "        pass\n",
    "    count=0"
   ]
  },
  {
   "cell_type": "markdown",
   "metadata": {},
   "source": [
    "# Loop completed"
   ]
  }
 ],
 "metadata": {
  "kernelspec": {
   "display_name": "Python 3",
   "language": "python",
   "name": "python3"
  },
  "language_info": {
   "codemirror_mode": {
    "name": "ipython",
    "version": 3
   },
   "file_extension": ".py",
   "mimetype": "text/x-python",
   "name": "python",
   "nbconvert_exporter": "python",
   "pygments_lexer": "ipython3",
   "version": "3.8.5"
  }
 },
 "nbformat": 4,
 "nbformat_minor": 4
}
